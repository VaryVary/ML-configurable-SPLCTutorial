{
 "cells": [
  {
   "cell_type": "markdown",
   "metadata": {},
   "source": [
    "# Performance prediction with x264"
   ]
  },
  {
   "cell_type": "markdown",
   "metadata": {},
   "source": [
    "First, import the dataset."
   ]
  },
  {
   "cell_type": "code",
   "execution_count": 2,
   "metadata": {},
   "outputs": [
    {
     "data": {
      "text/html": [
       "<div>\n",
       "<style scoped>\n",
       "    .dataframe tbody tr th:only-of-type {\n",
       "        vertical-align: middle;\n",
       "    }\n",
       "\n",
       "    .dataframe tbody tr th {\n",
       "        vertical-align: top;\n",
       "    }\n",
       "\n",
       "    .dataframe thead th {\n",
       "        text-align: right;\n",
       "    }\n",
       "</style>\n",
       "<table border=\"1\" class=\"dataframe\">\n",
       "  <thead>\n",
       "    <tr style=\"text-align: right;\">\n",
       "      <th></th>\n",
       "      <th>H264</th>\n",
       "      <th>no_8x8dct</th>\n",
       "      <th>no_asm</th>\n",
       "      <th>no_cabac</th>\n",
       "      <th>no_deblock</th>\n",
       "      <th>no_fast_pskip</th>\n",
       "      <th>no_mbtree</th>\n",
       "      <th>no_mixed_refs</th>\n",
       "      <th>no_weightb</th>\n",
       "      <th>rc_lookahead</th>\n",
       "      <th>ref</th>\n",
       "      <th>time</th>\n",
       "    </tr>\n",
       "  </thead>\n",
       "  <tbody>\n",
       "    <tr>\n",
       "      <th>0</th>\n",
       "      <td>True</td>\n",
       "      <td>True</td>\n",
       "      <td>False</td>\n",
       "      <td>False</td>\n",
       "      <td>True</td>\n",
       "      <td>True</td>\n",
       "      <td>False</td>\n",
       "      <td>True</td>\n",
       "      <td>True</td>\n",
       "      <td>20</td>\n",
       "      <td>9</td>\n",
       "      <td>3.444</td>\n",
       "    </tr>\n",
       "    <tr>\n",
       "      <th>1</th>\n",
       "      <td>True</td>\n",
       "      <td>True</td>\n",
       "      <td>False</td>\n",
       "      <td>True</td>\n",
       "      <td>False</td>\n",
       "      <td>True</td>\n",
       "      <td>False</td>\n",
       "      <td>False</td>\n",
       "      <td>True</td>\n",
       "      <td>40</td>\n",
       "      <td>9</td>\n",
       "      <td>4.744</td>\n",
       "    </tr>\n",
       "    <tr>\n",
       "      <th>2</th>\n",
       "      <td>True</td>\n",
       "      <td>True</td>\n",
       "      <td>False</td>\n",
       "      <td>False</td>\n",
       "      <td>True</td>\n",
       "      <td>False</td>\n",
       "      <td>True</td>\n",
       "      <td>True</td>\n",
       "      <td>False</td>\n",
       "      <td>40</td>\n",
       "      <td>1</td>\n",
       "      <td>2.427</td>\n",
       "    </tr>\n",
       "    <tr>\n",
       "      <th>3</th>\n",
       "      <td>True</td>\n",
       "      <td>True</td>\n",
       "      <td>False</td>\n",
       "      <td>True</td>\n",
       "      <td>False</td>\n",
       "      <td>True</td>\n",
       "      <td>True</td>\n",
       "      <td>True</td>\n",
       "      <td>False</td>\n",
       "      <td>40</td>\n",
       "      <td>9</td>\n",
       "      <td>3.447</td>\n",
       "    </tr>\n",
       "    <tr>\n",
       "      <th>4</th>\n",
       "      <td>True</td>\n",
       "      <td>False</td>\n",
       "      <td>False</td>\n",
       "      <td>False</td>\n",
       "      <td>True</td>\n",
       "      <td>False</td>\n",
       "      <td>False</td>\n",
       "      <td>True</td>\n",
       "      <td>False</td>\n",
       "      <td>60</td>\n",
       "      <td>5</td>\n",
       "      <td>2.957</td>\n",
       "    </tr>\n",
       "  </tbody>\n",
       "</table>\n",
       "</div>"
      ],
      "text/plain": [
       "   H264  no_8x8dct  no_asm  no_cabac  no_deblock  no_fast_pskip  no_mbtree  \\\n",
       "0  True       True   False     False        True           True      False   \n",
       "1  True       True   False      True       False           True      False   \n",
       "2  True       True   False     False        True          False       True   \n",
       "3  True       True   False      True       False           True       True   \n",
       "4  True      False   False     False        True          False      False   \n",
       "\n",
       "   no_mixed_refs  no_weightb  rc_lookahead  ref   time  \n",
       "0           True        True            20    9  3.444  \n",
       "1          False        True            40    9  4.744  \n",
       "2           True       False            40    1  2.427  \n",
       "3           True       False            40    9  3.447  \n",
       "4           True       False            60    5  2.957  "
      ]
     },
     "execution_count": 2,
     "metadata": {},
     "output_type": "execute_result"
    }
   ],
   "source": [
    "import pandas as pd\n",
    "\n",
    "df = pd.read_csv(\"dataset_x264.csv\")\n",
    "\n",
    "df.head()"
   ]
  },
  {
   "cell_type": "markdown",
   "metadata": {},
   "source": [
    "The dataset contains a list of configurations of x264 and the measured time for encoding a video with de given configuration."
   ]
  },
  {
   "cell_type": "markdown",
   "metadata": {},
   "source": [
    "We split the dataset to have a training set and a test set."
   ]
  },
  {
   "cell_type": "code",
   "execution_count": 4,
   "metadata": {},
   "outputs": [],
   "source": [
    "X = df.drop(columns=[\"time\"])\n",
    "y = df[\"time\"]\n",
    "\n",
    "from sklearn.model_selection import train_test_split\n",
    "\n",
    "test_size=0.9\n",
    "X_train, X_test, y_train, y_test = train_test_split(X, y, test_size=test_size)"
   ]
  },
  {
   "cell_type": "markdown",
   "metadata": {},
   "source": [
    "Here, instead of a classifier, we will use a regressor."
   ]
  },
  {
   "cell_type": "code",
   "execution_count": 5,
   "metadata": {},
   "outputs": [],
   "source": [
    "from sklearn import tree\n",
    "\n",
    "reg = tree.DecisionTreeRegressor(max_depth=4)"
   ]
  },
  {
   "cell_type": "markdown",
   "metadata": {},
   "source": [
    "Train it."
   ]
  },
  {
   "cell_type": "code",
   "execution_count": 6,
   "metadata": {},
   "outputs": [
    {
     "data": {
      "text/plain": [
       "DecisionTreeRegressor(criterion='mse', max_depth=4, max_features=None,\n",
       "           max_leaf_nodes=None, min_impurity_decrease=0.0,\n",
       "           min_impurity_split=None, min_samples_leaf=1,\n",
       "           min_samples_split=2, min_weight_fraction_leaf=0.0,\n",
       "           presort=False, random_state=None, splitter='best')"
      ]
     },
     "execution_count": 6,
     "metadata": {},
     "output_type": "execute_result"
    }
   ],
   "source": [
    "reg.fit(X_train, y_train)"
   ]
  },
  {
   "cell_type": "markdown",
   "metadata": {},
   "source": [
    "And test it."
   ]
  },
  {
   "cell_type": "markdown",
   "metadata": {},
   "source": [
    "Mean absolute error (MAE) gives a mean of the distance between the predicted value and the true value."
   ]
  },
  {
   "cell_type": "code",
   "execution_count": 8,
   "metadata": {},
   "outputs": [
    {
     "data": {
      "text/plain": [
       "0.13836838505970617"
      ]
     },
     "execution_count": 8,
     "metadata": {},
     "output_type": "execute_result"
    }
   ],
   "source": [
    "from sklearn.metrics import mean_absolute_error\n",
    "\n",
    "mean_absolute_error(y_test, reg.predict(X_test))"
   ]
  },
  {
   "cell_type": "markdown",
   "metadata": {},
   "source": [
    "Mean squared error (MSE) gives a mean of the squared distance between the predicted value and the true value. It is meant to be more punishing for when some prediction are far from the truth."
   ]
  },
  {
   "cell_type": "code",
   "execution_count": 9,
   "metadata": {},
   "outputs": [
    {
     "data": {
      "text/plain": [
       "0.030733518553590182"
      ]
     },
     "execution_count": 9,
     "metadata": {},
     "output_type": "execute_result"
    }
   ],
   "source": [
    "from sklearn.metrics import mean_squared_error\n",
    "\n",
    "mean_squared_error(y_test, reg.predict(X_test))"
   ]
  },
  {
   "cell_type": "markdown",
   "metadata": {},
   "source": [
    "Mean absolute percentage error (MAPE) is a normalized MAE."
   ]
  },
  {
   "cell_type": "code",
   "execution_count": 10,
   "metadata": {},
   "outputs": [
    {
     "data": {
      "text/plain": [
       "4.417077341278113"
      ]
     },
     "execution_count": 10,
     "metadata": {},
     "output_type": "execute_result"
    }
   ],
   "source": [
    "import numpy as np\n",
    "def mean_absolute_percentage_error(y_true, y_pred):\n",
    "    return np.mean(np.abs((y_true - y_pred) / y_true)) * 100\n",
    "mean_absolute_percentage_error(y_test, reg.predict(X_test))"
   ]
  },
  {
   "cell_type": "markdown",
   "metadata": {},
   "source": [
    "To interpret the model, we can print it."
   ]
  },
  {
   "cell_type": "code",
   "execution_count": 11,
   "metadata": {},
   "outputs": [],
   "source": [
    "import graphviz\n",
    "\n",
    "def print_tree(clf, f_names, name):\n",
    "    \n",
    "    dot_data = tree.export_graphviz(clf, out_file=None, \n",
    "                         feature_names=f_names,  \n",
    "                         filled=True, rounded=True,\n",
    "                         special_characters=True)  \n",
    "    graph = graphviz.Source(dot_data)  \n",
    "    graph.render(name)\n",
    "    \n",
    "print_tree(reg, X_train.columns.values, \"tree\")"
   ]
  },
  {
   "cell_type": "markdown",
   "metadata": {},
   "source": [
    "We can also print the rules."
   ]
  },
  {
   "cell_type": "code",
   "execution_count": 13,
   "metadata": {},
   "outputs": [
    {
     "name": "stdout",
     "output_type": "stream",
     "text": [
      "ref <= 7.0 & ref <= 3.0 & no_8x8dct <= 0.5 & no_mbtree <= 0.5 ---> [2.5554]\n",
      "ref <= 7.0 & ref <= 3.0 & no_8x8dct <= 0.5 & no_mbtree > 0.5 ---> [2.78190909]\n",
      "ref <= 7.0 & ref <= 3.0 & no_8x8dct > 0.5 & rc_lookahead <= 30.0 ---> [2.05833333]\n",
      "ref <= 7.0 & ref <= 3.0 & no_8x8dct > 0.5 & rc_lookahead > 30.0 ---> [2.32676923]\n",
      "ref <= 7.0 & ref > 3.0 & no_mixed_refs <= 0.5 & no_mbtree <= 0.5 ---> [3.6605]\n",
      "ref <= 7.0 & ref > 3.0 & no_mixed_refs <= 0.5 & no_mbtree > 0.5 ---> [4.21611111]\n",
      "ref <= 7.0 & ref > 3.0 & no_mixed_refs > 0.5 & no_mbtree <= 0.5 ---> [2.68191667]\n",
      "ref <= 7.0 & ref > 3.0 & no_mixed_refs > 0.5 & no_mbtree > 0.5 ---> [3.1116]\n",
      "ref > 7.0 & no_mixed_refs <= 0.5 & no_mbtree <= 0.5 & no_8x8dct <= 0.5 ---> [5.12588889]\n",
      "ref > 7.0 & no_mixed_refs <= 0.5 & no_mbtree <= 0.5 & no_8x8dct > 0.5 ---> [4.76]\n",
      "ref > 7.0 & no_mixed_refs <= 0.5 & no_mbtree > 0.5 & no_8x8dct <= 0.5 ---> [5.8686]\n",
      "ref > 7.0 & no_mixed_refs <= 0.5 & no_mbtree > 0.5 & no_8x8dct > 0.5 ---> [5.3654]\n",
      "ref > 7.0 & no_mixed_refs > 0.5 & no_8x8dct <= 0.5 & no_mbtree <= 0.5 ---> [3.63775]\n",
      "ref > 7.0 & no_mixed_refs > 0.5 & no_8x8dct <= 0.5 & no_mbtree > 0.5 ---> [3.82716667]\n",
      "ref > 7.0 & no_mixed_refs > 0.5 & no_8x8dct > 0.5 & no_mbtree <= 0.5 ---> [3.2025]\n",
      "ref > 7.0 & no_mixed_refs > 0.5 & no_8x8dct > 0.5 & no_mbtree > 0.5 ---> [3.473]\n"
     ]
    }
   ],
   "source": [
    "from sklearn.tree import _tree\n",
    "\n",
    "\n",
    "def tree_to_rules(tree, feature_names):\n",
    "    tree_ = tree.tree_\n",
    "    feature_name = [\n",
    "        feature_names[i] if i != _tree.TREE_UNDEFINED else \"undefined!\"\n",
    "        for i in tree_.feature\n",
    "    ]\n",
    "    #print (\"def tree({}):\".format(\", \".join(feature_names)))\n",
    "\n",
    "    def recurse(node, previous_rules):\n",
    "        if tree_.feature[node] != _tree.TREE_UNDEFINED:\n",
    "            name = feature_name[node]\n",
    "            threshold = tree_.threshold[node]\n",
    "            #print (\"{}if {} <= {}:\".format(indent, name, threshold))\n",
    "            recurse(tree_.children_left[node], previous_rules+[name + \" <= \" + str(threshold)])\n",
    "            #print (\"{}else:  # if {} > {}\".format(indent, name, threshold))\n",
    "            recurse(tree_.children_right[node], previous_rules+[name + \" > \" + str(threshold)])\n",
    "        else:\n",
    "            print(\" & \".join(previous_rules) + \" ---> \" + str(tree_.value[node][0]))\n",
    "\n",
    "\n",
    "    recurse(0, [])\n",
    "    \n",
    "tree_to_rules(reg, X_train.columns)"
   ]
  },
  {
   "cell_type": "markdown",
   "metadata": {},
   "source": []
  },
  {
   "cell_type": "code",
   "execution_count": 15,
   "metadata": {},
   "outputs": [
    {
     "data": {
      "text/plain": [
       "2.4268789769569086"
      ]
     },
     "execution_count": 15,
     "metadata": {},
     "output_type": "execute_result"
    }
   ],
   "source": [
    "\n",
    "#Parameters\n",
    "test_size=0.9\n",
    "\n",
    "#Decision tree classifier parameters\n",
    "#More details here : https://scikit-learn.org/stable/modules/generated/sklearn.tree.DecisionTreeRegressor.html#sklearn.tree.DecisionTreeRegressor\n",
    "hyperparams =  {\n",
    "    \"criterion\":\"mse\",\n",
    "    \"splitter\":\"best\",\n",
    "    \"max_depth\":None,\n",
    "    \"min_samples_split\":2,\n",
    "    \"min_samples_leaf\":1,\n",
    "    \"min_weight_fraction_leaf\":0.,\n",
    "    \"max_features\":None,\n",
    "    \"random_state\":None,\n",
    "    \"max_leaf_nodes\":None,\n",
    "    \"min_impurity_decrease\":1e-7,\n",
    "    \"presort\":False\n",
    "}\n",
    "\n",
    "X_train, X_test, y_train, y_test = train_test_split(X, y, test_size=test_size)\n",
    "reg = tree.DecisionTreeRegressor(**hyperparams)\n",
    "reg.fit(X_train, y_train)\n",
    "mean_absolute_percentage_error(y_test, reg.predict(X_test))"
   ]
  },
  {
   "cell_type": "code",
   "execution_count": null,
   "metadata": {},
   "outputs": [],
   "source": []
  }
 ],
 "metadata": {
  "kernelspec": {
   "display_name": "Python 3",
   "language": "python",
   "name": "python3"
  },
  "language_info": {
   "codemirror_mode": {
    "name": "ipython",
    "version": 3
   },
   "file_extension": ".py",
   "mimetype": "text/x-python",
   "name": "python",
   "nbconvert_exporter": "python",
   "pygments_lexer": "ipython3",
   "version": "3.6.8"
  }
 },
 "nbformat": 4,
 "nbformat_minor": 2
}
